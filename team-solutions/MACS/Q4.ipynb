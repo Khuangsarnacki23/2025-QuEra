{
 "cells": [
  {
   "cell_type": "code",
   "execution_count": null,
   "id": "3ae1afe7-6c92-4853-aecf-59df7ad858fa",
   "metadata": {},
   "outputs": [],
   "source": [
    "from bloqade import move\n",
    "%pip install ../assets/scorer\n",
    "import math\n",
    "pi = math.pi\n",
    "@move.vmove\n",
    "def local_hadamard(state: move.core.AtomState, indices) -> move.core.AtomState:\n",
    "    state = move.LocalXY(state, 0.25 * pi, 0.5 * pi, indices)\n",
    "    state = move.LocalRz(state, pi, indices)\n",
    "    state = move.LocalXY(state, -0.25 * pi, 0.5 * pi, indices)\n",
    "    return state"
   ]
  },
  {
   "cell_type": "code",
   "execution_count": null,
   "id": "b7a0955a-3ac7-424f-8ddd-93157768f8b7",
   "metadata": {},
   "outputs": [],
   "source": [
    "@move.vmove\n",
    "def problem4():\n",
    "    q = move.NewQubitRegister(9)\n",
    "\n",
    "    state = move.Init(qubits=[q[0],q[1],q[2],q[3],q[4],q[5],q[6],q[7],q[8]], indices=[0,1,2,3,4,5,6,7,8])\n",
    "    state.gate[[3,6]] = move.Move(state.storage[[3,6]])\n",
    "    state = local_hadamard(state,[3,6])\n",
    "    state.gate[[4]] = move.Move(state.storage[[0]])\n",
    "    state = move.GlobalCZ(atom_state = state)\n",
    "    state.storage[[3]] = state.gate[[3]]\n",
    "    state = move.GlobalCZ(atom_state = state)\n",
    "    state.gate[[1,2,4,5,7,8]] = move.Move(state.storage[[1,2,4,5,7,8]])    \n",
    "    state = local_hadamard(state,[1,2,4,5,7,8])\n",
    "    state.storage[[2,5,8]] = move.Move(state.gate[[2,5,8]])\n",
    "    state = move.GlobalCZ(atom_state = state)\n",
    "    state.storage[[1,4,7]] = move.Move(state.gate[[1,4,7]])\n",
    "    state.gate[[2,5,8]] = move.Move(state.storage[[2,5,8]])\n",
    "    state = move.GlobalCZ(atom_state = state)\n",
    "    state = local_hadamard(state,[[2,5,8]])\n",
    "    state.storage[[2,5,8]] = move.Move(state.storage[[2,5,8]])\n",
    "    move.Execute(state)"
   ]
  },
  {
   "cell_type": "code",
   "execution_count": null,
   "id": "83ce7766-4102-4ce9-bf84-36444011fec6",
   "metadata": {},
   "outputs": [],
   "source": [
    "from iquhack_scoring import MoveScorer\n",
    "from kirin.passes import aggressive\n",
    "expected_qasm = \"\"\"\n",
    "// Generated from Cirq v1.4.1\n",
    "\n",
    "OPENQASM 2.0;\n",
    "include \"qelib1.inc\";\n",
    "\n",
    "\n",
    "// Qubits: [q(0), q(1), q(2), q(3), q(4), q(5), q(6), q(7), q(8)]\n",
    "qreg q[9];\n",
    "\n",
    "\n",
    "cx q[0],q[3];\n",
    "cx q[0],q[6];\n",
    "h q[3];\n",
    "h q[0];\n",
    "h q[6];\n",
    "cx q[3],q[4];\n",
    "cx q[0],q[1];\n",
    "cx q[6],q[7];\n",
    "cx q[3],q[5];\n",
    "cx q[0],q[2];\n",
    "cx q[6],q[8];\n",
    "\"\"\"\n",
    "analysis = MoveScorer(problem5,expected_qasm = expected_qasm)\n",
    "\n",
    "MoveScorer(problem5, expected_qasm=expected_qasm).animate()\n",
    "print(MoveScorer(problem5, expected_qasm=expected_qasm).score())"
   ]
  }
 ],
 "metadata": {
  "kernelspec": {
   "display_name": "Python 3 [QuEra]",
   "language": "python",
   "name": "python3_querai_uzkoe7"
  },
  "language_info": {
   "codemirror_mode": {
    "name": "ipython",
    "version": 3
   },
   "file_extension": ".py",
   "mimetype": "text/x-python",
   "name": "python",
   "nbconvert_exporter": "python",
   "pygments_lexer": "ipython3",
   "version": "3.11.9"
  }
 },
 "nbformat": 4,
 "nbformat_minor": 5
}
