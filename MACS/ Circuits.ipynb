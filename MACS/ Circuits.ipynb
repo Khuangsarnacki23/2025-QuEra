{
 "cells": [
  {
   "cell_type": "code",
   "execution_count": 3,
   "id": "52468b90-c48e-41a1-9e12-f09a4abe9b71",
   "metadata": {},
   "outputs": [
    {
     "name": "stdout",
     "output_type": "stream",
     "text": [
      "\u001b[31mERROR: Invalid requirement: 'assets/scorer/': Expected end or semicolon (after name and no valid version specifier)\n",
      "    assets/scorer/\n",
      "          ^\n",
      "Hint: It looks like a path. File 'assets/scorer/' does not exist.\u001b[0m\u001b[31m\n",
      "\u001b[0mNote: you may need to restart the kernel to use updated packages.\n"
     ]
    }
   ],
   "source": [
    "pip install assets/scorer/"
   ]
  },
  {
   "cell_type": "code",
   "execution_count": null,
   "id": "68bf0cd0-1e93-4451-a432-e524a413fb75",
   "metadata": {},
   "outputs": [],
   "source": []
  },
  {
   "cell_type": "code",
   "execution_count": null,
   "id": "84c5d0af-1b30-465d-91bc-9746fb0186bd",
   "metadata": {},
   "outputs": [],
   "source": []
  }
 ],
 "metadata": {
  "kernelspec": {
   "display_name": "Python 3 [QuEra]",
   "language": "python",
   "name": "python3_querai_uzkoe7"
  },
  "language_info": {
   "codemirror_mode": {
    "name": "ipython",
    "version": 3
   },
   "file_extension": ".py",
   "mimetype": "text/x-python",
   "name": "python",
   "nbconvert_exporter": "python",
   "pygments_lexer": "ipython3",
   "version": "3.11.9"
  }
 },
 "nbformat": 4,
 "nbformat_minor": 5
}
