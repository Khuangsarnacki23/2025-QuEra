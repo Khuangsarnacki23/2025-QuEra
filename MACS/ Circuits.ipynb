{
 "cells": [
  {
   "cell_type": "code",
   "execution_count": 2,
   "id": "52468b90-c48e-41a1-9e12-f09a4abe9b71",
   "metadata": {},
   "outputs": [
    {
     "name": "stdout",
     "output_type": "stream",
     "text": [
      "\u001b[31mERROR: Invalid requirement: '../assets/Scorer': Expected package name at the start of dependency specifier\n",
      "    ../assets/Scorer\n",
      "    ^\n",
      "Hint: It looks like a path. File '../assets/Scorer' does not exist.\u001b[0m\u001b[31m\n",
      "\u001b[0mNote: you may need to restart the kernel to use updated packages.\n"
     ]
    }
   ],
   "source": [
    "from bloqade import move\n",
    "%pip install ../assets/Scorer"
   ]
  },
  {
   "cell_type": "code",
   "execution_count": 3,
   "id": "68bf0cd0-1e93-4451-a432-e524a413fb75",
   "metadata": {},
   "outputs": [],
   "source": [
    "@move.vmove\n",
    "def main():\n",
    "    q = move.NewQubitRegister(3)\n",
    "\n",
    "    state = move.Init(qubits=[q[0],q[1],q[2]], indices=[0,1,2])\n",
    "    move.Execute(state)"
   ]
  },
  {
   "cell_type": "code",
   "execution_count": 6,
   "id": "84c5d0af-1b30-465d-91bc-9746fb0186bd",
   "metadata": {},
   "outputs": [
    {
     "ename": "TypeError",
     "evalue": "MoveScorer.__init__() missing 1 required positional argument: 'expected_qasm'",
     "output_type": "error",
     "traceback": [
      "\u001b[0;31m---------------------------------------------------------------------------\u001b[0m",
      "\u001b[0;31mTypeError\u001b[0m                                 Traceback (most recent call last)",
      "Cell \u001b[0;32mIn[6], line 2\u001b[0m\n\u001b[1;32m      1\u001b[0m \u001b[38;5;28;01mfrom\u001b[39;00m \u001b[38;5;21;01miquhack_scoring\u001b[39;00m \u001b[38;5;28;01mimport\u001b[39;00m MoveScorer\n\u001b[0;32m----> 2\u001b[0m analysis \u001b[38;5;241m=\u001b[39m \u001b[43mMoveScorer\u001b[49m\u001b[43m(\u001b[49m\u001b[43mmain\u001b[49m\u001b[43m)\u001b[49m\u001b[38;5;241m.\u001b[39mscore(false)\n\u001b[1;32m      3\u001b[0m score:\u001b[38;5;28mdict\u001b[39m \u001b[38;5;241m=\u001b[39m analysis\u001b[38;5;241m.\u001b[39mscore()\n\u001b[1;32m      4\u001b[0m \u001b[38;5;28;01mfor\u001b[39;00m key,val \u001b[38;5;129;01min\u001b[39;00m score\u001b[38;5;241m.\u001b[39mitems():\n",
      "\u001b[0;31mTypeError\u001b[0m: MoveScorer.__init__() missing 1 required positional argument: 'expected_qasm'"
     ]
    }
   ],
   "source": [
    "from iquhack_scoring import MoveScorer\n",
    "analysis = MoveScorer(main,expected_qasm = 1)\n",
    "score:dict = analysis.score()\n",
    "for key,val in score.items():\n",
    "    print(f\"{key}: {val}\")"
   ]
  },
  {
   "cell_type": "code",
   "execution_count": null,
   "id": "a291c024-eab2-4eb2-a96e-a9909c8de163",
   "metadata": {},
   "outputs": [],
   "source": []
  },
  {
   "cell_type": "code",
   "execution_count": null,
   "id": "8dd47778-5352-40a2-be08-89c77f38d5d0",
   "metadata": {},
   "outputs": [],
   "source": []
  }
 ],
 "metadata": {
  "kernelspec": {
   "display_name": "Python 3 [QuEra]",
   "language": "python",
   "name": "python3_querai_uzkoe7"
  },
  "language_info": {
   "codemirror_mode": {
    "name": "ipython",
    "version": 3
   },
   "file_extension": ".py",
   "mimetype": "text/x-python",
   "name": "python",
   "nbconvert_exporter": "python",
   "pygments_lexer": "ipython3",
   "version": "3.11.9"
  }
 },
 "nbformat": 4,
 "nbformat_minor": 5
}
