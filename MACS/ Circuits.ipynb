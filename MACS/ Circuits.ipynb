{
 "cells": [
  {
   "cell_type": "code",
   "execution_count": 2,
   "id": "52468b90-c48e-41a1-9e12-f09a4abe9b71",
   "metadata": {},
   "outputs": [
    {
     "name": "stdout",
     "output_type": "stream",
     "text": [
      "\u001b[31mERROR: Invalid requirement: '../assets/Scorer': Expected package name at the start of dependency specifier\n",
      "    ../assets/Scorer\n",
      "    ^\n",
      "Hint: It looks like a path. File '../assets/Scorer' does not exist.\u001b[0m\u001b[31m\n",
      "\u001b[0mNote: you may need to restart the kernel to use updated packages.\n"
     ]
    }
   ],
   "source": [
    "from bloqade import move\n",
    "%pip install ../assets/Scorer"
   ]
  },
  {
   "cell_type": "code",
   "execution_count": 3,
   "id": "5cfcbf4e-d5b8-4da2-be15-f624ce8c6c7f",
   "metadata": {},
   "outputs": [],
   "source": [
    "@move.vmove()\n",
    "def initialize(register:move.core.QubitRegister) ->move.core.AtomState:\n",
    "    return move.Init(qubits=[register[0],register[1],register[2]], indices=[1,4,2])"
   ]
  },
  {
   "cell_type": "code",
   "execution_count": 4,
   "id": "68bf0cd0-1e93-4451-a432-e524a413fb75",
   "metadata": {},
   "outputs": [],
   "source": [
    "@move.vmove\n",
    "def main():\n",
    "    q = move.NewQubitRegister(5)\n",
    "\n",
    "    state = move.Init(qubits=[q[0],q[1],q[2],q[3],q[4]], indices=[3,2,0,4,10])\n",
    "    state.storage[[5, 6, 8, 9]] = move.Move(state.storage[[0, 1, 2, 3]])\n",
    "    state.gate[[2,3]] = move.Move(state.storage[[2,9]])\n",
    "    state.gate[[4,5]] = move.Move(state.gate[[2,3]])\n",
    "    state.storage[[1,3]] = move.Move(state.gate[[4,5]])\n",
    "    state = move.GlobalCZ(atom_state=state)\n",
    "    state = move.GlobalXY(atom_state=state,x_exponent=1.0,axis_phase_exponent=1.0)\n",
    "    state = move.LocalXY(atom_state=state,x_exponent=1.0,axis_phase_exponent=1.0,indices=[1,2])\n",
    "    move.Execute(state)"
   ]
  },
  {
   "cell_type": "code",
   "execution_count": 6,
   "id": "84c5d0af-1b30-465d-91bc-9746fb0186bd",
   "metadata": {},
   "outputs": [],
   "source": [
    "from iquhack_scoring import MoveScorer\n",
    "analysis = MoveScorer(main,expected_qasm = 1)"
   ]
  },
  {
   "cell_type": "code",
   "execution_count": null,
   "id": "a291c024-eab2-4eb2-a96e-a9909c8de163",
   "metadata": {},
   "outputs": [],
   "source": [
    "from bloqade.move.emit import MoveToQASM2\n",
    "# Commented out due to bad rendering of qasm string\n",
    "analysis.validate_output(analysis.run_move_analysis())\n",
    "\n",
    "qasm = MoveToQASM2().emit_str(main)"
   ]
  },
  {
   "cell_type": "code",
   "execution_count": null,
   "id": "8dd47778-5352-40a2-be08-89c77f38d5d0",
   "metadata": {},
   "outputs": [],
   "source": []
  }
 ],
 "metadata": {
  "kernelspec": {
   "display_name": "Python 3 [QuEra]",
   "language": "python",
   "name": "python3_querai_uzkoe7"
  },
  "language_info": {
   "codemirror_mode": {
    "name": "ipython",
    "version": 3
   },
   "file_extension": ".py",
   "mimetype": "text/x-python",
   "name": "python",
   "nbconvert_exporter": "python",
   "pygments_lexer": "ipython3",
   "version": "3.11.9"
  }
 },
 "nbformat": 4,
 "nbformat_minor": 5
}
