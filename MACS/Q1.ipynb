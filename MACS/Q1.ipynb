{
 "cells": [
  {
   "cell_type": "code",
   "execution_count": null,
   "id": "2b5e7875-c856-4e5a-aa80-0d0b45abb5f2",
   "metadata": {},
   "outputs": [],
   "source": [
    "#1.1\n",
    "import math\n",
    "from bloqade import move\n",
    "from kirin.passes import aggressive\n",
    "from iquhack_scoring import MoveScorer\n",
    "pi = math.pi\n",
    "\n",
    "@move.vmove\n",
    "def main():\n",
    "    q = move.NewQubitRegister(3)\n",
    "    state = move.Init(qubits=[q[0],q[1],q[2]], indices=[0,1,2])\n",
    "    #state.gate[[]] = move.Move(state.storage[[]])\n",
    "    state.gate[[0,1]] = move.Move(state.storage[[0,1]])\n",
    "    state = move.GlobalCZ(state)\n",
    "    state.storage[[0]] = move.Move(state.gate[[0]])\n",
    "    state.gate[[0]] = move.Move(state.storage[[2]])\n",
    "    state = move.LocalXY(atom_state=state,x_exponent=pi,axis_phase_exponent=pi/2.0,indices=[0,3])\n",
    "    state = move.GlobalCZ(state)\n",
    "    state = move.LocalXY(atom_state=state,x_exponent=pi,axis_phase_exponent=pi/2.0,indices=[0,3])\n",
    "    move.Execute(state)\n",
    "\n",
    "expected_qasm=\"\"\"\n",
    "// Generated from Cirq v1.4.1\n",
    "\n",
    "OPENQASM 2.0;\n",
    "include \"qelib1.inc\";\n",
    "\n",
    "\n",
    "// Qubits: [q(0), q(1), q(2)]\n",
    "qreg q[3];\n",
    "cz q[0],q[1];\n",
    "cx q[2],q[1];\n",
    "\"\"\"\n",
    "aggressive.Fold(move.vmove)(main)\n",
    "MoveScorer(main, expected_qasm=expected_qasm).animate()\n",
    "print(MoveScorer(main,expected_qasm=expected_qasm).score())\n"
   ]
  }
 ],
 "metadata": {
  "kernelspec": {
   "display_name": "Python 3 [Default]",
   "language": "python",
   "name": "python3"
  },
  "language_info": {
   "codemirror_mode": {
    "name": "ipython",
    "version": 3
   },
   "file_extension": ".py",
   "mimetype": "text/x-python",
   "name": "python",
   "nbconvert_exporter": "python",
   "pygments_lexer": "ipython3",
   "version": "3.11.9"
  }
 },
 "nbformat": 4,
 "nbformat_minor": 5
}
