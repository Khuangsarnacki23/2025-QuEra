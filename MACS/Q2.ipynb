{
 "cells": [
  {
   "cell_type": "code",
   "execution_count": null,
   "id": "863f3d6e-40b9-4a61-b61e-7d1c5ad8f532",
   "metadata": {},
   "outputs": [],
   "source": [
    "from bloqade import move\n",
    "%pip install ../assets/scorer\n",
    "import math\n",
    "pi = math.pi\n",
    "@move.vmove\n",
    "def local_hadamard(state: move.core.AtomState, indices) -> move.core.AtomState:\n",
    "    state = move.LocalXY(state, 0.25 * pi, 0.5 * pi, indices)\n",
    "    state = move.LocalRz(state, pi, indices)\n",
    "    state = move.LocalXY(state, -0.25 * pi, 0.5 * pi, indices)\n",
    "    return state"
   ]
  },
  {
   "cell_type": "code",
   "execution_count": null,
   "id": "591acea4-3240-4b54-a97c-99e1849e2778",
   "metadata": {},
   "outputs": [],
   "source": [
    "import math\n",
    "@move.vmove\n",
    "def problem2():\n",
    "    q = move.NewQubitRegister(3)\n",
    "\n",
    "    state = move.Init(qubits=[q[0],q[1],q[2]], indices=[0,1,2])\n",
    "    state.gate[[2]] = move.Move(state.storage[[1]])\n",
    "    state.gate[[1]] = move.Move(state.storage[[2]])\n",
    "    state = move.GlobalCZ(atom_state = state)\n",
    "    state.storage[[1]] = move.Move(state.gate[[2]])\n",
    "    state.gate[[3]] = move.Move(state.storage[[0]])\n",
    "    state = move.GlobalCZ(atom_state = state)\n",
    "    state.storage[[2]] = move.Move(state.gate[[1]])\n",
    "    state.gate[[2]] = move.Move(state.storage[[1]])\n",
    "    state = move.GlobalCZ(atom_state = state)\n",
    "    state.gate[[3]] = move.Move(state.storage[[1]])\n",
    "    pi = math.pi\n",
    "    state = move.LocalXY(state, 0.25 * pi, 0.5 * pi, [[1,2,3]])\n",
    "    state = move.LocalRz(state, pi, [[1,2,3]])\n",
    "    state = move.LocalXY(state, -0.25 * pi, 0.5 * pi, [[1,2,3]])\n",
    "    move.Execute(state)"
   ]
  },
  {
   "cell_type": "code",
   "execution_count": null,
   "id": "30d878d8-eea4-45f6-8c16-68d4b7dffe37",
   "metadata": {},
   "outputs": [],
   "source": [
    "from iquhack_scoring import MoveScorer\n",
    "from kirin.passes import aggressive\n",
    "expected_qasm = \"\"\"\n",
    "// Generated from Cirq v1.4.1\n",
    "\n",
    "OPENQASM 2.0;\n",
    "include \"qelib1.inc\";\n",
    "\n",
    "\n",
    "// Qubits: [q(0), q(1), q(2)]\n",
    "qreg q[3];\n",
    "\n",
    "\n",
    "h q[2];\n",
    "\n",
    "// Operation: CRz(0.5π)(q(1), q(2))\n",
    "cx q[1],q[2];\n",
    "u3(0,pi*1.25,pi*0.5) q[2];\n",
    "cx q[1],q[2];\n",
    "u3(0,pi*1.75,pi*0.5) q[2];\n",
    "\n",
    "// Operation: CRz(0.25π)(q(0), q(2))\n",
    "cx q[0],q[2];\n",
    "u3(0,pi*1.375,pi*0.5) q[2];\n",
    "cx q[0],q[2];\n",
    "u3(0,pi*1.625,pi*0.5) q[2];\n",
    "\n",
    "h q[1];\n",
    "\n",
    "// Operation: CRz(0.5π)(q(0), q(1))\n",
    "cx q[0],q[1];\n",
    "u3(0,pi*1.25,pi*0.5) q[1];\n",
    "cx q[0],q[1];\n",
    "u3(0,pi*1.75,pi*0.5) q[1];\n",
    "\n",
    "h q[0];\n",
    "\"\"\"\n",
    "\n",
    "MoveScorer(problem5, expected_qasm=expected_qasm).animate()\n",
    "print(MoveScorer(problem5, expected_qasm=expected_qasm).score())"
   ]
  }
 ],
 "metadata": {
  "kernelspec": {
   "display_name": "Python 3 [QuEra]",
   "language": "python",
   "name": "python3_querai_uzkoe7"
  },
  "language_info": {
   "codemirror_mode": {
    "name": "ipython",
    "version": 3
   },
   "file_extension": ".py",
   "mimetype": "text/x-python",
   "name": "python",
   "nbconvert_exporter": "python",
   "pygments_lexer": "ipython3",
   "version": "3.11.9"
  }
 },
 "nbformat": 4,
 "nbformat_minor": 5
}
